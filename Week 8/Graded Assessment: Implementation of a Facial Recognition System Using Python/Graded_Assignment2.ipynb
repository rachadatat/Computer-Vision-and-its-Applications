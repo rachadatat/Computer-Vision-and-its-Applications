{
  "nbformat": 4,
  "nbformat_minor": 0,
  "metadata": {
    "colab": {
      "provenance": []
    },
    "kernelspec": {
      "name": "python3",
      "display_name": "Python 3"
    },
    "language_info": {
      "name": "python"
    }
  },
  "cells": [
    {
      "cell_type": "markdown",
      "source": [
        "# Graded Assignment 2: Building a Face Verification and Recognition System with FaceNet\n",
        "\n",
        "In the digital era, face recognition systems are widely used in numerous applications including security systems, social sites among others. The capability of properly identifying and authenticating individuals is important for achieving safety and improving the experience of users. In this graded assignment, you will build a reliable face verification and recognition system using FaceNet, one of the most efficient deep learning networks available.\n",
        "\n",
        "FaceNet, developed by Google, is considered one of the best models for facial recognition. It does this by taking images of faces and transforming them into a compact and discriminative feature representation called embeddings. These embeddings are unique for each face, and thus it becomes easier to compare and identify faces from these embeddings. Through the FaceNet, you will be able to practice building a face verification system that is used in confirming a person's identity as well as the face recognition system that is used in identifying and labeling an individual from a given dataset.\n",
        "\n",
        "Main objectives:\n",
        "\n",
        "- Understand how to preprocess face images properly to feed into the FaceNet model to increase the input quality.\n",
        "\n",
        "- Generate Face Embeddings: Employ the FaceNet model which is pre-trained on the given set of face images to obtain the corresponding embeddings.\n",
        "\n",
        "- Implementing Face Verification: Develop a face verification system that would be able to tell if the two given face images are of the same individual or not. This entails comparing the embeddings created by FaceNet and then setting a threshold for verification.\n",
        "\n",
        "- Building a Face Recognition System: Develop a face recognition system capable of recognizing a person from a given set of faces. This will entail matching embeddings of an unknown face to a database of known embeddings and identifying the most similar one.\n",
        "\n",
        "- Evaluation and Performance Analysis: Evaluate the findings to identify the advantages and disadvantages of the implementation.\n",
        "\n",
        "Let's get started!"
      ],
      "metadata": {
        "id": "dUXBDXHJebbh"
      }
    },
    {
      "cell_type": "markdown",
      "source": [
        "## Setting up FaceNet\n",
        "\n",
        "We start by setting up an environment for face recognition using the FaceNet model from the keras-facenet library. We begin by installing the keras-facenet package, followed by importing essential libraries for image processing and numerical operations, including numpy, and specific modules from Keras for handling images.\n",
        "\n",
        "The FaceNet model is initialized using facenet = FaceNet(), which loads the pre-trained model. The preprocess_image function is defined to prepare input images for the model: it loads an image from a given path, resizes it to 160x160 pixels, converts it to a NumPy array, adds an extra dimension to represent a batch of one image, and preprocesses the image to meet the input requirements of FaceNet. This preprocessing ensures that the image data is properly formatted for generating face embeddings or performing other face-related tasks with the FaceNet model."
      ],
      "metadata": {
        "id": "sDFZI99HhjDk"
      }
    },
    {
      "cell_type": "code",
      "execution_count": null,
      "metadata": {
        "id": "IB6yuUnFQtwX"
      },
      "outputs": [],
      "source": [
        "!pip install keras-facenet\n",
        "\n",
        "import numpy as np\n",
        "from keras_facenet import FaceNet\n",
        "from keras.preprocessing.image import load_img, img_to_array\n",
        "from keras.applications.imagenet_utils import preprocess_input\n",
        "\n",
        "# Load and prepare the FaceNet model\n",
        "facenet = FaceNet()\n",
        "\n",
        "# Function to preprocess input images for FaceNet\n",
        "# Ref: https://github.com/serengil/tensorflow-101.git\n",
        "def preprocess_image(image_path):\n",
        "    img = load_img(image_path, target_size=(160, 160))\n",
        "    img = img_to_array(img)\n",
        "    img = np.expand_dims(img, axis=0)\n",
        "    img = preprocess_input(img)\n",
        "    return img"
      ]
    },
    {
      "cell_type": "markdown",
      "source": [
        "## Graded Cell: Generating Face Embeddings with FaceNet\n",
        "\n",
        "- Understanding the Task: Make sure to understand the purpose of the function. It aims to generate face embeddings using the FaceNet model.\n",
        "\n",
        "- Preprocessing Images: You'll need to preprocess the input image before passing it to the FaceNet model using 'preprocess_image' function defined earlier.\n",
        "\n",
        "- Using the FaceNet Model for Inference: Once the image is preprocessed, use the FaceNet model to generate embeddings. This involves passing the preprocessed image through the model and obtaining the embeddings as output.\n",
        "\n",
        "- Returning the Embeddings: Finally, return the generated embeddings from the function as the output."
      ],
      "metadata": {
        "id": "Ib3w7oKtjWQd"
      }
    },
    {
      "cell_type": "code",
      "source": [
        "# Function to generate face embeddings\n",
        "def generate_embeddings(image_path):"
      ],
      "metadata": {
        "id": "UY1f0PvJieW4"
      },
      "execution_count": 2,
      "outputs": []
    },
    {
      "cell_type": "markdown",
      "source": [
        "## Graded Cell: Building a Face Embedding Database with FaceNet\n",
        "Create a database of face embeddings using the FaceNet model, allowing for efficient face recognition and verification.\n",
        "\n",
        "- Collect Images of Individuals: Gather images of **at least 3** individuals whose face embeddings you want to include in the database. Ensure that the images are of good quality and contain only the face of the individual without any obstructions.\n",
        "\n",
        "- Generate Face Embeddings: Implement the generate_embeddings function to generate face embeddings from the collected images. This function should take the image path as input and return the corresponding face embeddings using the FaceNet model.\n",
        "\n",
        "- Add Entries to the Database: For each individual, call the generate_embeddings function with the path to their image and store the resulting face embeddings in the database under the individual's name as the key.\n",
        "\n",
        "- Repeat for Each Individual: Repeat the process for each individual whose face embeddings you want to include in the database."
      ],
      "metadata": {
        "id": "1twfGN42jrNb"
      }
    },
    {
      "cell_type": "code",
      "source": [
        "# Create the database\n",
        "database = {}\n",
        "\n",
        "# Add at least 3 entries to the database (1 line of code for each entry)"
      ],
      "metadata": {
        "id": "myy1pPolVEh0"
      },
      "execution_count": null,
      "outputs": []
    },
    {
      "cell_type": "markdown",
      "source": [
        "## Graded Cell: Building and Utilizing a Face Embedding Database with FaceNet for Face Verification\n",
        "\n",
        "- Understand the Task: Ensure a clear understanding of the function's purpose, which is to verify whether the person in the provided image matches a specified identity based on face embeddings.\n",
        "\n",
        "- Parameter Description: Understand the parameters of the function:\n",
        "  - image_path: Path to the image to be verified.\n",
        "  - identity: Name of the person to be verified.\n",
        "  - database: Dictionary containing known identities and their corresponding face embeddings.\n",
        "  - threshold: Threshold value for determining a match between face embeddings.\n",
        "\n",
        "- Compute Face Embeddings: Use the generate_embeddings function to compute the face embeddings for the input image.\n",
        "\n",
        "- Retrieve Stored Encoding: Retrieve the stored face embedding for the specified identity from the database.\n",
        "\n",
        "- Handle Missing Identity: Implement error handling to raise a ValueError if no face embedding is found for the specified identity in the database.\n",
        "\n",
        "- Calculate Distance: Compute the distance between the face embeddings of the input image and the stored encoding using a suitable distance metric, such as Euclidean distance.\n",
        "\n",
        "- Compare with Threshold: Compare the calculated distance with the threshold value. If the distance is less than the threshold, consider it a match; otherwise, consider it a mismatch.\n",
        "\n",
        "- Output Verification Result: Print a message indicating whether the verification was successful or failed based on the comparison result. Return a boolean value (True for successful verification and False for failed verification)."
      ],
      "metadata": {
        "id": "-Zchy7GikGpN"
      }
    },
    {
      "cell_type": "code",
      "source": [
        "def face_verification(image_path, identity, database, threshold=0.7):\n",
        "    \"\"\"\n",
        "    Verifies if the person on the \"image_path\" image is \"identity\".\n",
        "\n",
        "    Parameters:\n",
        "    - image_path: str, path to the image to be verified\n",
        "    - identity: str, name of the person to be verified\n",
        "    - database: dict, database containing known identities and their encodings\n",
        "    - threshold: float, the threshold value for determining a match\n",
        "\n",
        "    Returns:\n",
        "    - bool: True if the person matches the identity, False otherwise\n",
        "    \"\"\"\n",
        "    # Step 1: Compute the encoding for the input image\n",
        "\n",
        "    # Step 2: Retrieve the stored encoding for the given identity\n",
        "\n",
        "    # Step 3: Handle Missing Encoding\n",
        "\n",
        "    # Step 4: Calculate the distance between the two encodings\n",
        "\n",
        "    # Step 5: Compare the distance with the threshold"
      ],
      "metadata": {
        "id": "bDGsC-_ATT1m"
      },
      "execution_count": 4,
      "outputs": []
    },
    {
      "cell_type": "markdown",
      "source": [
        "## Graded Cells: Testing the Face Verification System\n",
        "Evaluate the verification system's performance by testing it on three distinct sample test images. These images should belong to individuals already present in the database but must be different from the ones used in the database."
      ],
      "metadata": {
        "id": "btnPihQkkaPN"
      }
    },
    {
      "cell_type": "code",
      "source": [
        "# Define the path to the test image\n",
        "\n",
        "# Verify the identity using the test image\n",
        "\n",
        "# Print the verification result\n"
      ],
      "metadata": {
        "id": "Kdgxb7z4TchA"
      },
      "execution_count": null,
      "outputs": []
    },
    {
      "cell_type": "code",
      "source": [
        "# Define the path to the test image\n",
        "\n",
        "# Verify the identity using the test image\n",
        "\n",
        "# Print the verification result\n"
      ],
      "metadata": {
        "id": "NpFL2lY_T3Jh"
      },
      "execution_count": null,
      "outputs": []
    },
    {
      "cell_type": "code",
      "source": [
        "# Define the path to the test image\n",
        "\n",
        "# Verify the identity using the test image\n",
        "\n",
        "# Print the verification result\n"
      ],
      "metadata": {
        "id": "zi4UybMyWewt"
      },
      "execution_count": null,
      "outputs": []
    },
    {
      "cell_type": "markdown",
      "source": [
        "## Graded Cell: Face Recognition System with FaceNet\n",
        "\n",
        "- Function Purpose: Understand the purpose of the face_recognition function, which is to identify the person in a given image by comparing it with known identities in the database using face verification.\n",
        "\n",
        "- Input Parameters: Recognize the input parameters of the function:\n",
        "  - image_path: The path to the image to be recognized.\n",
        "  - database: A dictionary containing known identities and their corresponding face embeddings.\n",
        "  - Initializing Recognized Identity: Note the initialization of the recognized_identity variable to \"Unknown\", indicating that the identity of the person in the image is initially unknown.\n",
        "\n",
        "- Looping Through Database: Create a for loop that iterates through each identity in the database: The loop iterates through each key (identity) in the database dictionary. For each identity, it calls the face_verification function to verify if the person in the image matches the current identity in the database.\n",
        "Breaking the Loop: If a match is found (i.e., the face_verification function returns True), the loop breaks, and the recognized identity is updated to the current identity being verified.\n",
        "\n",
        "- Returning Recognized Identity: After the loop completes, the function returns the recognized identity, which is either the matched identity from the database or \"Unknown\" if no match is found.\n",
        "\n"
      ],
      "metadata": {
        "id": "WiUQlI4jlNXy"
      }
    },
    {
      "cell_type": "code",
      "source": [
        "def face_recognition(image_path, database):\n",
        "    \"\"\"\n",
        "    Performs face recognition to identify the person in the given image.\n",
        "\n",
        "    Parameters:\n",
        "    - image_path: str, path to the image to be recognized\n",
        "    - database: dict, database containing known identities and their encodings\n",
        "\n",
        "    Returns:\n",
        "    - str: the identity of the recognized person, or \"Unknown\" if no match is found\n",
        "    \"\"\"\n",
        "    recognized_identity = \"Unknown\"\n",
        "\n",
        "    # Loop through the database to verify each identity\n",
        "\n",
        "      # Check if the current identity matches the person in the image\n",
        "\n",
        "    return recognized_identity"
      ],
      "metadata": {
        "id": "4IduvEL_UGaT"
      },
      "execution_count": 9,
      "outputs": []
    },
    {
      "cell_type": "markdown",
      "source": [
        "## Graded Cells: Testing the Face Recognition System\n",
        "\n",
        "Evaluate the recognition system's performance by testing it on three distinct sample test images. These images should belong to individuals already present in the database but must be different from the ones used in the database."
      ],
      "metadata": {
        "id": "nI7YacScleTz"
      }
    },
    {
      "cell_type": "code",
      "source": [
        "# Define the path to the test image\n",
        "\n",
        "\n",
        "# Recognize the person in the test image by calling face_recognition function\n",
        "\n",
        "\n",
        "# Print the recognized person\n"
      ],
      "metadata": {
        "id": "TBSYvOCnUPsu"
      },
      "execution_count": null,
      "outputs": []
    },
    {
      "cell_type": "code",
      "source": [
        "# Define the path to the test image\n",
        "\n",
        "\n",
        "# Recognize the person in the test image by calling face_recognition function\n",
        "\n",
        "\n",
        "# Print the recognized person\n"
      ],
      "metadata": {
        "id": "3wvawMWuUsn8"
      },
      "execution_count": null,
      "outputs": []
    },
    {
      "cell_type": "code",
      "source": [
        "# Define the path to the test image\n",
        "\n",
        "\n",
        "# Recognize the person in the test image by calling face_recognition function\n",
        "\n",
        "\n",
        "# Print the recognized person\n"
      ],
      "metadata": {
        "id": "rAL0G8YOYqO_"
      },
      "execution_count": null,
      "outputs": []
    },
    {
      "cell_type": "markdown",
      "source": [
        "Congratulations on completing the course!"
      ],
      "metadata": {
        "id": "pVHf_zktp_iO"
      }
    }
  ]
}