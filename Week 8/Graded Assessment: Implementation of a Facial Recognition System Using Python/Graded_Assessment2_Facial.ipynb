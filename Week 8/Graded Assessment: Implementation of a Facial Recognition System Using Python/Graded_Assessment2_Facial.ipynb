{
  "nbformat": 4,
  "nbformat_minor": 0,
  "metadata": {
    "colab": {
      "provenance": []
    },
    "kernelspec": {
      "name": "python3",
      "display_name": "Python 3"
    },
    "language_info": {
      "name": "python"
    }
  },
  "cells": [
    {
      "cell_type": "markdown",
      "source": [
        "# Graded Assignment 2: Building a Face Recognition System with DeepFace\n",
        "\n",
        "In the digital era, face recognition systems are widely used in various applications, including security systems and social media platforms. The ability to accurately identify and authenticate individuals is crucial for enhancing safety and improving user experiences. In this graded assignment, you will build a reliable face verification and recognition system using DeepFace, a powerful library that simplifies facial recognition tasks.\n",
        "\n",
        "DeepFace leverages several advanced models, including FaceNet and VGG-Face, to generate face embeddings, which are compact and discriminative feature representations of faces. These embeddings are unique to each individual, making it easier to compare and identify faces. In this assignment, you will practice building a face verification system to confirm a person's identity and a face recognition system to identify and label individuals from a dataset.\n",
        "\n",
        "Main Objectives:\n",
        "\n",
        "- Build a Face Recognition System: Create a face recognition system capable of identifying a person from a given set of faces. This will include matching the embeddings of an unknown face to a database of known embeddings and identifying the most similar one.\n",
        "\n",
        "- Compare Models: Compare the performance of different models in face recognition and verification tasks.\n",
        "\n",
        "\n",
        "- Evaluation and Performance Analysis: Assess your findings to identify the advantages and disadvantages of your implementation.\n",
        "\n",
        "Let's get started!"
      ],
      "metadata": {
        "id": "6WlxKqJ0u5-1"
      }
    },
    {
      "cell_type": "markdown",
      "source": [
        "To install the DeepFace library, use the command: !pip install deepface."
      ],
      "metadata": {
        "id": "c9PudMzPvwDb"
      }
    },
    {
      "cell_type": "code",
      "execution_count": null,
      "metadata": {
        "id": "znVkkEsAN0Nz"
      },
      "outputs": [],
      "source": [
        "!pip install deepface"
      ]
    },
    {
      "cell_type": "markdown",
      "source": [
        "The following code defines a function called face_verification, which uses the DeepFace library to verify whether two face images belong to the same person. Here’s a brief breakdown of the code:\n",
        "\n",
        "- Imports: The function imports the DeepFace class from the DeepFace library, which provides tools for face recognition and verification.\n",
        "\n",
        "- Function Definition: face_verification(image_path1, image_path2, model_name='VGG-Face', distance_metric='cosine') accepts two image paths as inputs along with optional parameters for the model name and distance metric. By default, it uses the 'VGG-Face' model and the 'cosine' distance metric.\n",
        "\n",
        "- Verification Process: The function calls DeepFace.verify, passing the two image paths and specified parameters. This function performs the face verification and returns a result dictionary containing details such as the distance between embeddings and whether the two images are verified as the same person.\n",
        "\n",
        "- Extracting Results: It extracts the distance and verified values from the result. The distance indicates how similar the two faces are based on the embeddings, while verified is a boolean indicating if they are considered the same person.\n",
        "\n",
        "- Displaying Results: The function checks the verified value:\n",
        "If True, it prints a success message with the distance and the verification threshold. If False, it prints a failure message with the distance and the threshold.\n",
        "\n",
        "- Return Value: Finally, the function returns True if the verification is successful and False otherwise as well as calculated distance."
      ],
      "metadata": {
        "id": "ZHpIvRzhv34s"
      }
    },
    {
      "cell_type": "code",
      "source": [
        "from deepface import DeepFace\n",
        "\n",
        "def face_verification(image_path1, image_path2, model_name='VGG-Face', distance_metric='cosine'):\n",
        "    # Use DeepFace's built-in verification and distance metric\n",
        "    result = DeepFace.verify(image_path1, image_path2, model_name=model_name, distance_metric=distance_metric, enforce_detection=False)\n",
        "\n",
        "    # Extract the relevant details\n",
        "    dist = result['distance']\n",
        "    verified = result['verified']\n",
        "\n",
        "    # Display results\n",
        "    if verified:\n",
        "        print(f\"Verification successful. Distance: {dist:.2f} (Threshold: {result['threshold']})\")\n",
        "    else:\n",
        "        print(f\"Verification not successful. Distance: {dist:.2f} (Threshold: {result['threshold']})\")\n",
        "\n",
        "    # Return both verification result and distance\n",
        "    return verified, dist"
      ],
      "metadata": {
        "id": "pp__kiXfN4o3"
      },
      "execution_count": null,
      "outputs": []
    },
    {
      "cell_type": "markdown",
      "source": [
        "## Graded Cell: Building a Database of Individuals [10 points]\n",
        "Create a database of individuals:\n",
        "\n",
        "- Collect Images of Individuals: Gather images of **at least 5** individuals whose face embeddings you want to include in the database. Ensure that the images are of good quality and contain only the face of the individual without any obstructions.\n",
        "\n",
        "- Add Entries to the Database: For each individual, use the individual's name as the key and the image path as value.\n",
        "\n",
        "- Repeat for Each Individual: Repeat the process for each individual whose identities you want to include in the database."
      ],
      "metadata": {
        "id": "Z9QgrUPZw0ri"
      }
    },
    {
      "cell_type": "code",
      "source": [
        "## Create the database\n",
        "database = {}\n",
        "\n",
        "database = {\n",
        "    #\"trump\": \"/content/trump.jpg\",\n",
        "    # Add more identities and paths as needed\n",
        "}\n"
      ],
      "metadata": {
        "id": "395S-kSOOfEG"
      },
      "execution_count": null,
      "outputs": []
    },
    {
      "cell_type": "markdown",
      "source": [
        "## Graded Cell: Face Recognition System [35 points]\n",
        "\n",
        "The face_recognition function is designed to identify a person in a given image by comparing it with images stored in a database.\n",
        "\n",
        "Parameters:\n",
        "\n",
        "- image_path: A string representing the path to the image to be recognized.\n",
        "- database: A dictionary where the keys are identities (names of individuals) and the values are the paths to their corresponding known images.\n",
        "- model_name: A string specifying the model to use for generating embeddings (default is 'VGG-Face').\n",
        "- distance_metric: A string indicating the metric to calculate distance (options include 'cosine', 'euclidean', etc.).\n",
        "\n",
        "Returns:\n",
        "\n",
        "A string representing the identity of the recognized person or \"Unknown\" if no match is found.\n",
        "\n",
        "The function iterates through the database, using a face verification method to compare the input image with each known image. If a match is found, it returns the identity of the recognized person; otherwise, it returns \"Unknown.\""
      ],
      "metadata": {
        "id": "Qs1lytTDyZqP"
      }
    },
    {
      "cell_type": "code",
      "source": [
        "def face_recognition(image_path, database, model_name='VGG-Face', distance_metric='cosine'):\n",
        "    \"\"\"\n",
        "    Performs face recognition to identify the person in the given image by comparing it with images in the database.\n",
        "\n",
        "    Parameters:\n",
        "    - image_path: str, path to the image to be recognized\n",
        "    - database: dict, where keys are identities and values are the paths to their known images\n",
        "    - model_name: str, the model to use for generating embeddings (default is 'VGG-Face')\n",
        "    - distance_metric: str, the metric to calculate distance ('cosine', 'euclidean', etc.)\n",
        "    - threshold: float, the threshold for verification (default is 0.68)\n",
        "\n",
        "    Returns:\n",
        "    - str: the identity of the recognized person, or \"Unknown\" if no match is found\n",
        "    \"\"\"\n",
        "    recognized_identity = \"Unknown\"\n",
        "\n",
        "    # Loop through the database to verify each identity\n",
        "\n",
        "        # Use the face_verification function to check each identity\n",
        "\n",
        "    return recognized_identity"
      ],
      "metadata": {
        "id": "QXEBH05mPMfD"
      },
      "execution_count": null,
      "outputs": []
    },
    {
      "cell_type": "markdown",
      "source": [
        "## Graded Cells: Testing the Face Verification System [5 points]\n",
        "Evaluate the verification system's performance by testing it on three distinct sample test images. These images should belong to individuals already present in the database but must be different from the ones used in the database."
      ],
      "metadata": {
        "id": "A0Ofv_GH1Iww"
      }
    },
    {
      "cell_type": "code",
      "source": [
        "# Test 1"
      ],
      "metadata": {
        "id": "LkMneM_V1KLs"
      },
      "execution_count": null,
      "outputs": []
    },
    {
      "cell_type": "code",
      "source": [
        "# Test 2"
      ],
      "metadata": {
        "id": "w82gqNAp1Mms"
      },
      "execution_count": null,
      "outputs": []
    },
    {
      "cell_type": "code",
      "source": [
        "# Test 3"
      ],
      "metadata": {
        "id": "T_wVbXRI1N1P"
      },
      "execution_count": null,
      "outputs": []
    },
    {
      "cell_type": "markdown",
      "source": [
        "## Graded Cells: Testing the Face Recognition System [5 points]\n",
        "\n",
        "Evaluate the recognition system's performance by testing it on three distinct sample test images. These images should belong to individuals already present in the database but must be different from the ones used in the database."
      ],
      "metadata": {
        "id": "rNynSNsgyuhC"
      }
    },
    {
      "cell_type": "code",
      "source": [
        "# Test 1"
      ],
      "metadata": {
        "id": "sHJ7ig7cPdwT"
      },
      "execution_count": null,
      "outputs": []
    },
    {
      "cell_type": "code",
      "source": [
        "# Test 2"
      ],
      "metadata": {
        "id": "Kh4yChRry5Xa"
      },
      "execution_count": null,
      "outputs": []
    },
    {
      "cell_type": "code",
      "source": [
        "# Test 3"
      ],
      "metadata": {
        "id": "80AulfUEy623"
      },
      "execution_count": null,
      "outputs": []
    },
    {
      "cell_type": "markdown",
      "source": [
        "## Graded Cells: Comparison of Different Models [35 points]\n",
        "\n",
        "Compare the performance of various pre-trained models (e.g., VGG-Face, Facenet, ArcFace) on the 5 images in the database. Evaluate the models based on metrics such as accuracy, average distance, and processing time. You can use either Euclidean or cosine similarity as distance metric."
      ],
      "metadata": {
        "id": "7Qqzul32y-9U"
      }
    },
    {
      "cell_type": "code",
      "source": [],
      "metadata": {
        "id": "_Uwl4-a4zwO7"
      },
      "execution_count": null,
      "outputs": []
    },
    {
      "cell_type": "markdown",
      "source": [
        "## Graded Cells: Conclusions [10 points]\n",
        "\n",
        "Draw conclusions regarding the effectiveness of different models used in your experiments. Consider factors such as accuracy, speed, and robustness."
      ],
      "metadata": {
        "id": "NKHyLMBwzyWo"
      }
    }
  ]
}